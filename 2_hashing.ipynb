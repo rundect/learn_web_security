{
 "cells": [
  {
   "cell_type": "code",
   "execution_count": 2,
   "id": "882c8114-c944-444b-bc11-b1e72965a642",
   "metadata": {},
   "outputs": [
    {
     "data": {
      "text/plain": [
       "6686868341375505623"
      ]
     },
     "execution_count": 2,
     "metadata": {},
     "output_type": "execute_result"
    }
   ],
   "source": [
    "message = 'message'\n",
    "hash(message)"
   ]
  },
  {
   "cell_type": "markdown",
   "id": "7e3f06f2-f954-47ca-aa0b-0466c49a18b7",
   "metadata": {},
   "source": [
    "#### Детерминированное поведение"
   ]
  },
  {
   "cell_type": "code",
   "execution_count": 3,
   "id": "fad92710-2af2-4ab8-a799-d5cb72a6daa1",
   "metadata": {},
   "outputs": [
    {
     "data": {
      "text/plain": [
       "7230689593938223672"
      ]
     },
     "execution_count": 3,
     "metadata": {},
     "output_type": "execute_result"
    }
   ],
   "source": [
    "hash('same message')"
   ]
  },
  {
   "cell_type": "code",
   "execution_count": 4,
   "id": "85c3a50f-8aa5-47cc-b4a6-dae862842c5c",
   "metadata": {},
   "outputs": [
    {
     "data": {
      "text/plain": [
       "7230689593938223672"
      ]
     },
     "execution_count": 4,
     "metadata": {},
     "output_type": "execute_result"
    }
   ],
   "source": [
    "hash('same message')"
   ]
  },
  {
   "cell_type": "markdown",
   "id": "40c8c6cc-d84b-4949-9bbf-5db3c3f88865",
   "metadata": {},
   "source": [
    "#### Лавинный эффект"
   ]
  },
  {
   "cell_type": "code",
   "execution_count": 5,
   "id": "fbdc3367-fdb3-4f4c-b9dc-2dfb171c480d",
   "metadata": {},
   "outputs": [
    {
     "data": {
      "text/plain": [
       "'-0b1101000111001100100001010100000000100110110100000110010011001'"
      ]
     },
     "execution_count": 5,
     "metadata": {},
     "output_type": "execute_result"
    }
   ],
   "source": [
    "bin(hash('a'))"
   ]
  },
  {
   "cell_type": "code",
   "execution_count": 6,
   "id": "6e1a59ae-6729-4389-afd8-31cef48620cf",
   "metadata": {},
   "outputs": [
    {
     "data": {
      "text/plain": [
       "'0b111110001010101110101111010101011000001110100010100100100011101'"
      ]
     },
     "execution_count": 6,
     "metadata": {},
     "output_type": "execute_result"
    }
   ],
   "source": [
    "bin(hash('b'))"
   ]
  },
  {
   "cell_type": "code",
   "execution_count": 7,
   "id": "655cdd3e-0b23-4b8f-af22-c5cd9f09a32d",
   "metadata": {},
   "outputs": [
    {
     "data": {
      "text/plain": [
       "'0b0'"
      ]
     },
     "execution_count": 7,
     "metadata": {},
     "output_type": "execute_result"
    }
   ],
   "source": [
    "bin(hash(0))"
   ]
  },
  {
   "cell_type": "code",
   "execution_count": 8,
   "id": "9a9df31d-80e6-423d-8a33-6228bc41ce34",
   "metadata": {},
   "outputs": [
    {
     "data": {
      "text/plain": [
       "'0b1'"
      ]
     },
     "execution_count": 8,
     "metadata": {},
     "output_type": "execute_result"
    }
   ],
   "source": [
    "bin(hash(1))"
   ]
  },
  {
   "cell_type": "code",
   "execution_count": 9,
   "id": "688c6773-8e9e-45dd-88b9-219fd8b432c6",
   "metadata": {},
   "outputs": [
    {
     "data": {
      "text/plain": [
       "['blake2b',\n",
       " 'blake2s',\n",
       " 'md5',\n",
       " 'sha1',\n",
       " 'sha224',\n",
       " 'sha256',\n",
       " 'sha384',\n",
       " 'sha3_224',\n",
       " 'sha3_256',\n",
       " 'sha3_384',\n",
       " 'sha3_512',\n",
       " 'sha512',\n",
       " 'shake_128',\n",
       " 'shake_256']"
      ]
     },
     "execution_count": 9,
     "metadata": {},
     "output_type": "execute_result"
    }
   ],
   "source": [
    "import hashlib\n",
    "sorted(hashlib.algorithms_guaranteed)"
   ]
  },
  {
   "cell_type": "markdown",
   "id": "95ea9a80-08bf-434e-b13c-0a9f28037a8c",
   "metadata": {},
   "source": [
    "#### Криптографическое хеширование в Python"
   ]
  },
  {
   "cell_type": "code",
   "execution_count": 10,
   "id": "01f336db-85c7-44d1-b3b4-940e8745b4aa",
   "metadata": {},
   "outputs": [],
   "source": [
    "import hashlib\n",
    "named = hashlib.sha256()\n",
    "generic = hashlib.new('sha256')"
   ]
  },
  {
   "cell_type": "code",
   "execution_count": 11,
   "id": "088560e7-2148-401d-b803-0959884a816e",
   "metadata": {},
   "outputs": [
    {
     "data": {
      "text/plain": [
       "b'\\xabS\\n\\x13\\xe4Y\\x14\\x98+y\\xf9\\xb7\\xe3\\xfb\\xa9\\x94\\xcf\\xd1\\xf3\\xfb\"\\xf7\\x1c\\xea\\x1a\\xfb\\xf0+F\\x0cm\\x1d'"
      ]
     },
     "execution_count": 11,
     "metadata": {},
     "output_type": "execute_result"
    }
   ],
   "source": [
    "from hashlib import sha256\n",
    "message = b'message'\n",
    "hash_function = sha256(message)\n",
    "hash_function.digest()"
   ]
  },
  {
   "cell_type": "code",
   "execution_count": 12,
   "id": "37ee9818-ebe9-4eb0-857b-222e43d38226",
   "metadata": {},
   "outputs": [
    {
     "data": {
      "text/plain": [
       "'ab530a13e45914982b79f9b7e3fba994cfd1f3fb22f71cea1afbf02b460c6d1d'"
      ]
     },
     "execution_count": 12,
     "metadata": {},
     "output_type": "execute_result"
    }
   ],
   "source": [
    "hash_function.hexdigest()"
   ]
  },
  {
   "cell_type": "code",
   "execution_count": 13,
   "id": "fd15f508-e895-493f-85c0-fc354ee4fffb",
   "metadata": {},
   "outputs": [
    {
     "data": {
      "text/plain": [
       "False"
      ]
     },
     "execution_count": 13,
     "metadata": {},
     "output_type": "execute_result"
    }
   ],
   "source": [
    "from hashlib import md5\n",
    "x = bytearray.fromhex('d131dd02c5e6eec4693d9a0698aff95c2fcab58712467eab4004583eb8fb7f8955ad340609f4b30283e488832571415a085125e8f7cdc99fd91dbdf280373c5bd8823e3156348f5bae6dacd436c919c6dd53e2b487da03fd02396306d248cda0e99f33420f577ee8ce54b67080a80d1ec69821bcb6a8839396f9652b6ff72a70')\n",
    "y = bytearray.fromhex('d131dd02c5e6eec4693d9a0698aff95c2fcab50712467eab4004583eb8fb7f8955ad340609f4b30283e4888325f1415a085125e8f7cdc99fd91dbd7280373c5bd8823e3156348f5bae6dacd436c919c6dd53e23487da03fd02396306d248cda0e99f33420f577ee8ce54b67080280d1ec69821bcb6a8839396f965ab6ff72a70')\n",
    "x == y"
   ]
  },
  {
   "cell_type": "code",
   "execution_count": 14,
   "id": "c7eb6efe-6c5a-4d93-9a86-729f6886f843",
   "metadata": {},
   "outputs": [
    {
     "data": {
      "text/plain": [
       "True"
      ]
     },
     "execution_count": 14,
     "metadata": {},
     "output_type": "execute_result"
    }
   ],
   "source": [
    "md5(x).digest() == md5(y).digest()"
   ]
  },
  {
   "cell_type": "code",
   "execution_count": 15,
   "id": "137416b6-379d-4d7b-8448-c2dad4b008ac",
   "metadata": {},
   "outputs": [
    {
     "data": {
      "text/plain": [
       "True"
      ]
     },
     "execution_count": 15,
     "metadata": {},
     "output_type": "execute_result"
    }
   ],
   "source": [
    " message = b'message'\n",
    "hash_function = hashlib.sha256()\n",
    "hash_function.update(message)\n",
    "hash_function.digest() == hashlib.sha256(message).digest()"
   ]
  },
  {
   "cell_type": "code",
   "execution_count": 16,
   "id": "80bc8282-ccb0-4649-b093-af5ba66bc256",
   "metadata": {},
   "outputs": [
    {
     "data": {
      "text/plain": [
       "True"
      ]
     },
     "execution_count": 16,
     "metadata": {},
     "output_type": "execute_result"
    }
   ],
   "source": [
    "from hashlib import sha256\n",
    "once = sha256()\n",
    "once.update(b'message')\n",
    "many = sha256()\n",
    "many.update(b'm')\n",
    "many.update(b'e')\n",
    "many.update(b's')\n",
    "many.update(b's')\n",
    "many.update(b'a')\n",
    "many.update(b'g')\n",
    "many.update(b'e')\n",
    "once.digest() == many.digest()"
   ]
  },
  {
   "cell_type": "code",
   "execution_count": 17,
   "id": "5929a539-c913-44f6-b4c6-fda54411e013",
   "metadata": {},
   "outputs": [
    {
     "data": {
      "text/plain": [
       "256"
      ]
     },
     "execution_count": 17,
     "metadata": {},
     "output_type": "execute_result"
    }
   ],
   "source": [
    "hash_function = hashlib.sha256(b'message')\n",
    "hash_function.digest_size\n",
    "len(hash_function.digest()) * 8"
   ]
  },
  {
   "cell_type": "code",
   "execution_count": 18,
   "id": "c8e13de6-4921-460a-8545-4dea678e6747",
   "metadata": {},
   "outputs": [
    {
     "ename": "SyntaxError",
     "evalue": "invalid syntax (1389068427.py, line 1)",
     "output_type": "error",
     "traceback": [
      "\u001b[0;36m  Cell \u001b[0;32mIn[18], line 1\u001b[0;36m\u001b[0m\n\u001b[0;31m    python -c 'import hashlib; print(hashlib.sha256(b\"m\").hexdigest())'\u001b[0m\n\u001b[0m              ^\u001b[0m\n\u001b[0;31mSyntaxError\u001b[0m\u001b[0;31m:\u001b[0m invalid syntax\n"
     ]
    }
   ],
   "source": [
    "python -c 'import hashlib; print(hashlib.sha256(b\"m\").hexdigest())'"
   ]
  },
  {
   "cell_type": "code",
   "execution_count": 19,
   "id": "b1216633-c4ff-478b-af5b-b10c1d146933",
   "metadata": {},
   "outputs": [
    {
     "ename": "SyntaxError",
     "evalue": "invalid syntax (2234591952.py, line 1)",
     "output_type": "error",
     "traceback": [
      "\u001b[0;36m  Cell \u001b[0;32mIn[19], line 1\u001b[0;36m\u001b[0m\n\u001b[0;31m    ruby -e 'require \"digest\"; puts Digest::SHA256.hexdigest \"m\"'\u001b[0m\n\u001b[0m            ^\u001b[0m\n\u001b[0;31mSyntaxError\u001b[0m\u001b[0;31m:\u001b[0m invalid syntax\n"
     ]
    }
   ],
   "source": [
    "ruby -e 'require \"digest\"; puts Digest::SHA256.hexdigest \"m\"'"
   ]
  },
  {
   "cell_type": "code",
   "execution_count": 20,
   "id": "74884fdb-b20e-4963-a1b1-aa07b4a2d4be",
   "metadata": {},
   "outputs": [
    {
     "ename": "SyntaxError",
     "evalue": "invalid syntax (673546234.py, line 1)",
     "output_type": "error",
     "traceback": [
      "\u001b[0;36m  Cell \u001b[0;32mIn[20], line 1\u001b[0;36m\u001b[0m\n\u001b[0;31m    python -c 'print(hash(\"message\"))'\u001b[0m\n\u001b[0m              ^\u001b[0m\n\u001b[0;31mSyntaxError\u001b[0m\u001b[0;31m:\u001b[0m invalid syntax\n"
     ]
    }
   ],
   "source": [
    "python -c 'print(hash(\"message\"))'"
   ]
  },
  {
   "cell_type": "markdown",
   "id": "1230b3c4-61c1-4b17-9cc7-3d5c50f93a2f",
   "metadata": {},
   "source": [
    "#### Функции контрольного суммирования"
   ]
  },
  {
   "cell_type": "code",
   "execution_count": 21,
   "id": "69d0262a-8548-42d0-b048-f2ce48c33167",
   "metadata": {},
   "outputs": [
    {
     "data": {
      "text/plain": [
       "True"
      ]
     },
     "execution_count": 21,
     "metadata": {},
     "output_type": "execute_result"
    }
   ],
   "source": [
    "import zlib\n",
    "message = b'this is repetitious' * 42\n",
    "checksum = zlib.crc32(message)\n",
    "compressed = zlib.compress(message)\n",
    "decompressed = zlib.decompress(compressed)\n",
    "zlib.crc32(decompressed) == checksum"
   ]
  },
  {
   "cell_type": "code",
   "execution_count": 22,
   "id": "b4a821b8-36a3-4503-8a30-9f85ced48d5f",
   "metadata": {},
   "outputs": [
    {
     "data": {
      "text/plain": [
       "1774765869"
      ]
     },
     "execution_count": 22,
     "metadata": {},
     "output_type": "execute_result"
    }
   ],
   "source": [
    "zlib.crc32(b'gnu')"
   ]
  },
  {
   "cell_type": "code",
   "execution_count": 25,
   "id": "e8634b24-ed6e-4780-923a-86b60fb75b15",
   "metadata": {},
   "outputs": [
    {
     "data": {
      "text/plain": [
       "1774765869"
      ]
     },
     "execution_count": 25,
     "metadata": {},
     "output_type": "execute_result"
    }
   ],
   "source": [
    "zlib.crc32(b'codding')"
   ]
  },
  {
   "cell_type": "code",
   "execution_count": null,
   "id": "760d37cf-b7b0-4e05-aad0-a67f6a730ebe",
   "metadata": {},
   "outputs": [],
   "source": []
  }
 ],
 "metadata": {
  "kernelspec": {
   "display_name": "Python 3 (ipykernel)",
   "language": "python",
   "name": "python3"
  },
  "language_info": {
   "codemirror_mode": {
    "name": "ipython",
    "version": 3
   },
   "file_extension": ".py",
   "mimetype": "text/x-python",
   "name": "python",
   "nbconvert_exporter": "python",
   "pygments_lexer": "ipython3",
   "version": "3.10.12"
  }
 },
 "nbformat": 4,
 "nbformat_minor": 5
}
