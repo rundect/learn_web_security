{
 "cells": [
  {
   "cell_type": "markdown",
   "id": "3d6e9d2d-707a-4997-8851-d66d266053b3",
   "metadata": {},
   "source": [
    "#### Случайные числа"
   ]
  },
  {
   "cell_type": "code",
   "execution_count": 1,
   "id": "efad9063-cb2f-48aa-a463-924c22ac2b2d",
   "metadata": {},
   "outputs": [
    {
     "data": {
      "text/plain": [
       "b'B \\xa8\\xec\\xbe\\x0e\\xc8?Y\\xa3\\x90\\x97:\\xe9\\x82\\x81'"
      ]
     },
     "execution_count": 1,
     "metadata": {},
     "output_type": "execute_result"
    }
   ],
   "source": [
    "import os\n",
    "os.urandom(16)"
   ]
  },
  {
   "cell_type": "code",
   "execution_count": 2,
   "id": "5091f42a-8971-430b-8f87-3dcc414d4908",
   "metadata": {},
   "outputs": [
    {
     "data": {
      "text/plain": [
       "b'K\\xfb\\xed\\xd0\\xf4\\xf0\\xfengm\\x99z\\xee\\xe7PY'"
      ]
     },
     "execution_count": 2,
     "metadata": {},
     "output_type": "execute_result"
    }
   ],
   "source": [
    "from secrets import token_bytes, token_hex, token_urlsafe\n",
    "token_bytes(16)"
   ]
  },
  {
   "cell_type": "code",
   "execution_count": 3,
   "id": "fe3f5330-5b62-41eb-8e9d-deda142ae1fa",
   "metadata": {},
   "outputs": [
    {
     "data": {
      "text/plain": [
       "'0c7230ec1ab00c6f7cb87eb610291c5c'"
      ]
     },
     "execution_count": 3,
     "metadata": {},
     "output_type": "execute_result"
    }
   ],
   "source": [
    "token_hex(16)"
   ]
  },
  {
   "cell_type": "code",
   "execution_count": 4,
   "id": "a429159d-a1de-4d16-b936-49dabdfd015b",
   "metadata": {},
   "outputs": [
    {
     "data": {
      "text/plain": [
       "'JlbkdUMCj-85xprAIphQYQ'"
      ]
     },
     "execution_count": 4,
     "metadata": {},
     "output_type": "execute_result"
    }
   ],
   "source": [
    "token_urlsafe(16)"
   ]
  },
  {
   "cell_type": "code",
   "execution_count": 5,
   "id": "8a0d8981-49c6-4099-89e2-790d45c04fa4",
   "metadata": {},
   "outputs": [
    {
     "ename": "SyntaxError",
     "evalue": "invalid syntax (1850908306.py, line 1)",
     "output_type": "error",
     "traceback": [
      "\u001b[0;36m  Cell \u001b[0;32mIn[5], line 1\u001b[0;36m\u001b[0m\n\u001b[0;31m    python3 -c 'import secrets; print(secrets.token_hex(16))'\u001b[0m\n\u001b[0m               ^\u001b[0m\n\u001b[0;31mSyntaxError\u001b[0m\u001b[0;31m:\u001b[0m invalid syntax\n"
     ]
    }
   ],
   "source": [
    "python -c 'import secrets; print(secrets.token_hex(16))'"
   ]
  },
  {
   "cell_type": "markdown",
   "id": "0b20e1bd-a561-4c75-bedb-39f1fce5b5ef",
   "metadata": {},
   "source": [
    "#### Кодовые фразы"
   ]
  },
  {
   "cell_type": "code",
   "execution_count": 7,
   "id": "ca5f94d9-98a3-4c26-9c81-6da03336d549",
   "metadata": {},
   "outputs": [
    {
     "ename": "FileNotFoundError",
     "evalue": "[Errno 2] No such file or directory: '/usr/share/dict/words'",
     "output_type": "error",
     "traceback": [
      "\u001b[0;31m---------------------------------------------------------------------------\u001b[0m",
      "\u001b[0;31mFileNotFoundError\u001b[0m                         Traceback (most recent call last)",
      "Cell \u001b[0;32mIn[7], line 3\u001b[0m\n\u001b[1;32m      1\u001b[0m \u001b[38;5;28;01mfrom\u001b[39;00m \u001b[38;5;21;01mpathlib\u001b[39;00m \u001b[38;5;28;01mimport\u001b[39;00m Path\n\u001b[1;32m      2\u001b[0m \u001b[38;5;28;01mimport\u001b[39;00m \u001b[38;5;21;01msecrets\u001b[39;00m\n\u001b[0;32m----> 3\u001b[0m words \u001b[38;5;241m=\u001b[39m \u001b[43mPath\u001b[49m\u001b[43m(\u001b[49m\u001b[38;5;124;43m'\u001b[39;49m\u001b[38;5;124;43m/usr/share/dict/words\u001b[39;49m\u001b[38;5;124;43m'\u001b[39;49m\u001b[43m)\u001b[49m\u001b[38;5;241;43m.\u001b[39;49m\u001b[43mread_text\u001b[49m\u001b[43m(\u001b[49m\u001b[43m)\u001b[49m\u001b[38;5;241m.\u001b[39msplitlines()\n\u001b[1;32m      4\u001b[0m passphrase \u001b[38;5;241m=\u001b[39m \u001b[38;5;124m'\u001b[39m\u001b[38;5;124m \u001b[39m\u001b[38;5;124m'\u001b[39m\u001b[38;5;241m.\u001b[39mjoin(secrets\u001b[38;5;241m.\u001b[39mchoice(words) \u001b[38;5;28;01mfor\u001b[39;00m i \u001b[38;5;129;01min\u001b[39;00m \u001b[38;5;28mrange\u001b[39m(\u001b[38;5;241m4\u001b[39m))\n\u001b[1;32m      5\u001b[0m passphrase\n",
      "File \u001b[0;32m/usr/lib/python3.10/pathlib.py:1134\u001b[0m, in \u001b[0;36mPath.read_text\u001b[0;34m(self, encoding, errors)\u001b[0m\n\u001b[1;32m   1130\u001b[0m \u001b[38;5;250m\u001b[39m\u001b[38;5;124;03m\"\"\"\u001b[39;00m\n\u001b[1;32m   1131\u001b[0m \u001b[38;5;124;03mOpen the file in text mode, read it, and close the file.\u001b[39;00m\n\u001b[1;32m   1132\u001b[0m \u001b[38;5;124;03m\"\"\"\u001b[39;00m\n\u001b[1;32m   1133\u001b[0m encoding \u001b[38;5;241m=\u001b[39m io\u001b[38;5;241m.\u001b[39mtext_encoding(encoding)\n\u001b[0;32m-> 1134\u001b[0m \u001b[38;5;28;01mwith\u001b[39;00m \u001b[38;5;28;43mself\u001b[39;49m\u001b[38;5;241;43m.\u001b[39;49m\u001b[43mopen\u001b[49m\u001b[43m(\u001b[49m\u001b[43mmode\u001b[49m\u001b[38;5;241;43m=\u001b[39;49m\u001b[38;5;124;43m'\u001b[39;49m\u001b[38;5;124;43mr\u001b[39;49m\u001b[38;5;124;43m'\u001b[39;49m\u001b[43m,\u001b[49m\u001b[43m \u001b[49m\u001b[43mencoding\u001b[49m\u001b[38;5;241;43m=\u001b[39;49m\u001b[43mencoding\u001b[49m\u001b[43m,\u001b[49m\u001b[43m \u001b[49m\u001b[43merrors\u001b[49m\u001b[38;5;241;43m=\u001b[39;49m\u001b[43merrors\u001b[49m\u001b[43m)\u001b[49m \u001b[38;5;28;01mas\u001b[39;00m f:\n\u001b[1;32m   1135\u001b[0m     \u001b[38;5;28;01mreturn\u001b[39;00m f\u001b[38;5;241m.\u001b[39mread()\n",
      "File \u001b[0;32m/usr/lib/python3.10/pathlib.py:1119\u001b[0m, in \u001b[0;36mPath.open\u001b[0;34m(self, mode, buffering, encoding, errors, newline)\u001b[0m\n\u001b[1;32m   1117\u001b[0m \u001b[38;5;28;01mif\u001b[39;00m \u001b[38;5;124m\"\u001b[39m\u001b[38;5;124mb\u001b[39m\u001b[38;5;124m\"\u001b[39m \u001b[38;5;129;01mnot\u001b[39;00m \u001b[38;5;129;01min\u001b[39;00m mode:\n\u001b[1;32m   1118\u001b[0m     encoding \u001b[38;5;241m=\u001b[39m io\u001b[38;5;241m.\u001b[39mtext_encoding(encoding)\n\u001b[0;32m-> 1119\u001b[0m \u001b[38;5;28;01mreturn\u001b[39;00m \u001b[38;5;28;43mself\u001b[39;49m\u001b[38;5;241;43m.\u001b[39;49m\u001b[43m_accessor\u001b[49m\u001b[38;5;241;43m.\u001b[39;49m\u001b[43mopen\u001b[49m\u001b[43m(\u001b[49m\u001b[38;5;28;43mself\u001b[39;49m\u001b[43m,\u001b[49m\u001b[43m \u001b[49m\u001b[43mmode\u001b[49m\u001b[43m,\u001b[49m\u001b[43m \u001b[49m\u001b[43mbuffering\u001b[49m\u001b[43m,\u001b[49m\u001b[43m \u001b[49m\u001b[43mencoding\u001b[49m\u001b[43m,\u001b[49m\u001b[43m \u001b[49m\u001b[43merrors\u001b[49m\u001b[43m,\u001b[49m\n\u001b[1;32m   1120\u001b[0m \u001b[43m                           \u001b[49m\u001b[43mnewline\u001b[49m\u001b[43m)\u001b[49m\n",
      "\u001b[0;31mFileNotFoundError\u001b[0m: [Errno 2] No such file or directory: '/usr/share/dict/words'"
     ]
    }
   ],
   "source": [
    "from pathlib import Path\n",
    "import secrets\n",
    "words = Path('/usr/share/dict/words').read_text().splitlines()\n",
    "passphrase = ' '.join(secrets.choice(words) for i in range(4))\n",
    "passphrase"
   ]
  },
  {
   "cell_type": "markdown",
   "id": "97233b1c-7b64-4373-8d32-1135cd5ca1ff",
   "metadata": {},
   "source": [
    "#### Хеширование с ключом"
   ]
  },
  {
   "cell_type": "code",
   "execution_count": 8,
   "id": "48f96ad3-d970-4970-a3f6-f597930c1792",
   "metadata": {},
   "outputs": [
    {
     "data": {
      "text/plain": [
       "True"
      ]
     },
     "execution_count": 8,
     "metadata": {},
     "output_type": "execute_result"
    }
   ],
   "source": [
    "from hashlib import blake2b\n",
    "m = b'same message'\n",
    "x = b'key x'\n",
    "y = b'key y'\n",
    "blake2b(m, key=x).digest() == blake2b(m, key=x).digest()"
   ]
  },
  {
   "cell_type": "code",
   "execution_count": 9,
   "id": "33366b4e-0a65-41c2-9f09-3fa027e5a655",
   "metadata": {},
   "outputs": [
    {
     "data": {
      "text/plain": [
       "False"
      ]
     },
     "execution_count": 9,
     "metadata": {},
     "output_type": "execute_result"
    }
   ],
   "source": [
    "blake2b(m, key=x).digest() == blake2b(m, key=y).digest()"
   ]
  },
  {
   "cell_type": "code",
   "execution_count": 11,
   "id": "f0beeae2-637b-4ce9-bb63-b254ce973cbc",
   "metadata": {},
   "outputs": [],
   "source": [
    "import hashlib\n",
    "from pathlib import Path\n",
    "def store(path, data, key):\n",
    "    data_path = Path(path)\n",
    "    hash_path = data_path.with_suffix('.hash')\n",
    "    hash_value = hashlib.blake2b(data, key=key).hexdigest()\n",
    "    with data_path.open(mode='x'), hash_path.open(mode='x'):\n",
    "        data_path.write_bytes(data)\n",
    "        hash_path.write_text(hash_value)\n",
    "def is_modified(path, key):\n",
    "    data_path = Path(path)\n",
    "    hash_path = data_path.with_suffix('.hash')\n",
    "    data = data_path.read_bytes()\n",
    "    original_hash_value = hash_path.read_text()\n",
    "    hash_value = hashlib.blake2b(data, key=key).hexdigest()\n",
    "    return original_hash_value != hash_value"
   ]
  },
  {
   "cell_type": "markdown",
   "id": "3601784f-fd28-4153-b9ff-d8bb52e1bbe5",
   "metadata": {},
   "source": [
    "#### HMAC-функции"
   ]
  },
  {
   "cell_type": "code",
   "execution_count": 13,
   "id": "52231ba8-d6a4-4660-a8ab-df728d108e56",
   "metadata": {},
   "outputs": [],
   "source": [
    "import hashlib\n",
    "import hmac\n",
    "hmac_sha256 = hmac.new(b'key', msg=b'message', digestmod=hashlib.sha256)"
   ]
  },
  {
   "cell_type": "code",
   "execution_count": 14,
   "id": "317a614d-c3fd-417c-992d-11e805798638",
   "metadata": {},
   "outputs": [
    {
     "data": {
      "text/plain": [
       "b\"n\\x9e\\xf2\\x9bu\\xff\\xfc[z\\xba\\xe5'\\xd5\\x8f\\xda\\xdb/\\xe4.r\\x19\\x01\\x19v\\x91sC\\x06_X\\xedJ\""
      ]
     },
     "execution_count": 14,
     "metadata": {},
     "output_type": "execute_result"
    }
   ],
   "source": [
    "hmac_sha256.digest()"
   ]
  },
  {
   "cell_type": "code",
   "execution_count": 15,
   "id": "e53cf2cd-dc10-46a2-b711-9edb0b035ee3",
   "metadata": {},
   "outputs": [
    {
     "data": {
      "text/plain": [
       "'6e9ef29b75fffc5b7abae527d58fdadb2fe42e7219011976917343065f58ed4a'"
      ]
     },
     "execution_count": 15,
     "metadata": {},
     "output_type": "execute_result"
    }
   ],
   "source": [
    "hmac_sha256.hexdigest()"
   ]
  },
  {
   "cell_type": "code",
   "execution_count": 16,
   "id": "a0cbeaea-8132-405a-9a96-b0f1fc249a9e",
   "metadata": {},
   "outputs": [
    {
     "data": {
      "text/plain": [
       "32"
      ]
     },
     "execution_count": 16,
     "metadata": {},
     "output_type": "execute_result"
    }
   ],
   "source": [
    "hmac_sha256.digest_size"
   ]
  },
  {
   "cell_type": "code",
   "execution_count": 17,
   "id": "616e6997-09dc-4e3d-87c3-52ae9a6ad06c",
   "metadata": {},
   "outputs": [
    {
     "data": {
      "text/plain": [
       "'hmac-sha256'"
      ]
     },
     "execution_count": 17,
     "metadata": {},
     "output_type": "execute_result"
    }
   ],
   "source": [
    "hmac_sha256.name"
   ]
  },
  {
   "cell_type": "markdown",
   "id": "88a5be9c-c501-4066-9d0c-bccf16e726b2",
   "metadata": {},
   "source": [
    "#### Проверка подлинности данных между системами"
   ]
  },
  {
   "cell_type": "code",
   "execution_count": 18,
   "id": "1cc31ddd-5ad3-4690-9dbf-2209a5dd86bc",
   "metadata": {},
   "outputs": [],
   "source": [
    "import hashlib\n",
    "import hmac\n",
    "import json\n",
    "hmac_sha256 = hmac.new(b'shared_key', digestmod=hashlib.sha256)\n",
    "message = b'from Bob to Alice'\n",
    "hmac_sha256.update(message)\n",
    "hash_value = hmac_sha256.hexdigest()\n",
    "authenticated_msg = {\n",
    " 'message': list(message),\n",
    " 'hash_value': hash_value, }\n",
    "outbound_msg_to_alice = json.dumps(authenticated_msg)"
   ]
  },
  {
   "cell_type": "code",
   "execution_count": 19,
   "id": "a50182d7-f8a4-4dd6-8e89-09e97b041c7b",
   "metadata": {},
   "outputs": [
    {
     "ename": "NameError",
     "evalue": "name 'inbound_msg_from_bob' is not defined",
     "output_type": "error",
     "traceback": [
      "\u001b[0;31m---------------------------------------------------------------------------\u001b[0m",
      "\u001b[0;31mNameError\u001b[0m                                 Traceback (most recent call last)",
      "Cell \u001b[0;32mIn[19], line 4\u001b[0m\n\u001b[1;32m      2\u001b[0m \u001b[38;5;28;01mimport\u001b[39;00m \u001b[38;5;21;01mhmac\u001b[39;00m\n\u001b[1;32m      3\u001b[0m \u001b[38;5;28;01mimport\u001b[39;00m \u001b[38;5;21;01mjson\u001b[39;00m\n\u001b[0;32m----> 4\u001b[0m authenticated_msg \u001b[38;5;241m=\u001b[39m json\u001b[38;5;241m.\u001b[39mloads(\u001b[43minbound_msg_from_bob\u001b[49m)\n\u001b[1;32m      5\u001b[0m message \u001b[38;5;241m=\u001b[39m \u001b[38;5;28mbytes\u001b[39m(authenticated_msg[\u001b[38;5;124m'\u001b[39m\u001b[38;5;124mmessage\u001b[39m\u001b[38;5;124m'\u001b[39m])\n\u001b[1;32m      6\u001b[0m hmac_sha256 \u001b[38;5;241m=\u001b[39m hmac\u001b[38;5;241m.\u001b[39mnew(\u001b[38;5;124mb\u001b[39m\u001b[38;5;124m'\u001b[39m\u001b[38;5;124mshared_key\u001b[39m\u001b[38;5;124m'\u001b[39m, digestmod\u001b[38;5;241m=\u001b[39mhashlib\u001b[38;5;241m.\u001b[39msha256)\n",
      "\u001b[0;31mNameError\u001b[0m: name 'inbound_msg_from_bob' is not defined"
     ]
    }
   ],
   "source": [
    "import hashlib\n",
    "import hmac\n",
    "import json\n",
    "authenticated_msg = json.loads(inbound_msg_from_bob)\n",
    "message = bytes(authenticated_msg['message'])\n",
    "hmac_sha256 = hmac.new(b'shared_key', digestmod=hashlib.sha256)\n",
    "hmac_sha256.update(message)\n",
    "hash_value = hmac_sha256.hexdigest()\n",
    "if hash_value == authenticated_msg['hash_value']:\n",
    "    print('доверенное сообщение')"
   ]
  },
  {
   "cell_type": "markdown",
   "id": "b2d81bb0-937a-4d45-aefb-5d623b54d729",
   "metadata": {},
   "source": [
    "#### Атака по времени"
   ]
  },
  {
   "cell_type": "code",
   "execution_count": 20,
   "id": "ddad0f0e-1980-494b-b75b-0d25cc1ac8db",
   "metadata": {},
   "outputs": [
    {
     "data": {
      "text/plain": [
       "False"
      ]
     },
     "execution_count": 20,
     "metadata": {},
     "output_type": "execute_result"
    }
   ],
   "source": [
    "from hmac import compare_digest\n",
    "compare_digest('alice', 'mallory')"
   ]
  },
  {
   "cell_type": "code",
   "execution_count": 21,
   "id": "40ced23b-78b5-4995-9db3-abdd203b776f",
   "metadata": {},
   "outputs": [
    {
     "data": {
      "text/plain": [
       "True"
      ]
     },
     "execution_count": 21,
     "metadata": {},
     "output_type": "execute_result"
    }
   ],
   "source": [
    "compare_digest('alice', 'alice')"
   ]
  }
 ],
 "metadata": {
  "kernelspec": {
   "display_name": "Python 3 (ipykernel)",
   "language": "python",
   "name": "python3"
  },
  "language_info": {
   "codemirror_mode": {
    "name": "ipython",
    "version": 3
   },
   "file_extension": ".py",
   "mimetype": "text/x-python",
   "name": "python",
   "nbconvert_exporter": "python",
   "pygments_lexer": "ipython3",
   "version": "3.10.12"
  }
 },
 "nbformat": 4,
 "nbformat_minor": 5
}
