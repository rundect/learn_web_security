{
 "cells": [
  {
   "cell_type": "markdown",
   "id": "7e76365d-6487-40fb-bc9e-54a3a6278625",
   "metadata": {},
   "source": [
    "#### Fernet"
   ]
  },
  {
   "cell_type": "code",
   "execution_count": 3,
   "id": "f95269a1-e3e2-4cd3-94ed-363488cf5841",
   "metadata": {},
   "outputs": [
    {
     "data": {
      "text/plain": [
       "b'plaintext'"
      ]
     },
     "execution_count": 3,
     "metadata": {},
     "output_type": "execute_result"
    }
   ],
   "source": [
    "from cryptography.fernet import Fernet\n",
    "key = Fernet.generate_key()\n",
    "fernet = Fernet(key)\n",
    "token = fernet.encrypt(b'plaintext')\n",
    "fernet.decrypt(token)"
   ]
  },
  {
   "cell_type": "markdown",
   "id": "4e6eb59d-5106-4d71-8d49-b73a488752c3",
   "metadata": {},
   "source": [
    "#### Смена ключа"
   ]
  },
  {
   "cell_type": "code",
   "execution_count": 4,
   "id": "b0e83084-8f67-4c36-b306-97ba4f99d40b",
   "metadata": {},
   "outputs": [
    {
     "ename": "NameError",
     "evalue": "name 'read_key_from_somewhere_safe' is not defined",
     "output_type": "error",
     "traceback": [
      "\u001b[0;31m---------------------------------------------------------------------------\u001b[0m",
      "\u001b[0;31mNameError\u001b[0m                                 Traceback (most recent call last)",
      "Cell \u001b[0;32mIn[4], line 2\u001b[0m\n\u001b[1;32m      1\u001b[0m \u001b[38;5;28;01mfrom\u001b[39;00m \u001b[38;5;21;01mcryptography\u001b[39;00m\u001b[38;5;21;01m.\u001b[39;00m\u001b[38;5;21;01mfernet\u001b[39;00m \u001b[38;5;28;01mimport\u001b[39;00m Fernet, MultiFernet\n\u001b[0;32m----> 2\u001b[0m old_key \u001b[38;5;241m=\u001b[39m \u001b[43mread_key_from_somewhere_safe\u001b[49m()\n\u001b[1;32m      3\u001b[0m old_fernet \u001b[38;5;241m=\u001b[39m Fernet(old_key)\n\u001b[1;32m      4\u001b[0m new_key \u001b[38;5;241m=\u001b[39m Fernet\u001b[38;5;241m.\u001b[39mgenerate_key()\n",
      "\u001b[0;31mNameError\u001b[0m: name 'read_key_from_somewhere_safe' is not defined"
     ]
    }
   ],
   "source": [
    "from cryptography.fernet import Fernet, MultiFernet\n",
    "old_key = read_key_from_somewhere_safe()\n",
    "old_fernet = Fernet(old_key)\n",
    "new_key = Fernet.generate_key()\n",
    "new_fernet = Fernet(new_key)\n",
    "multi_fernet = MultiFernet([new_fernet, old_fernet])\n",
    "old_tokens = read_tokens_from_somewhere_safe()\n",
    "new_tokens = [multi_fernet.rotate(t) for t in old_tokens]\n",
    "replace_old_tokens(new_tokens)\n",
    "replace_old_key_with_new_key(new_key)\n",
    "del old_key\n",
    "for new_token in new_tokens:\n",
    "    plaintext = new_fernet.decrypt(new_token) "
   ]
  },
  {
   "cell_type": "markdown",
   "id": "2e9fa4e6-c41f-45a1-aacf-c422f2ba4bd5",
   "metadata": {},
   "source": [
    "#### Режим электронной кодовой книги (electronic codebook mode – ECB)"
   ]
  },
  {
   "cell_type": "code",
   "execution_count": 5,
   "id": "1d568431-7269-4ef5-ae85-4ebe20703eea",
   "metadata": {},
   "outputs": [
    {
     "data": {
      "text/plain": [
       "b'G\\xf2\\xe2J]a;\\x0e\\xc5\\xd6\\x1057D\\xa9\\x88'"
      ]
     },
     "execution_count": 5,
     "metadata": {},
     "output_type": "execute_result"
    }
   ],
   "source": [
    "from cryptography.hazmat.backends import default_backend\n",
    "from cryptography.hazmat.primitives.ciphers import (Cipher, algorithms, modes)\n",
    "\n",
    "key = b'key must be 128, 196 or 256 bits'\n",
    "\n",
    "cipher = Cipher(algorithms.AES(key),modes.ECB(),backend=default_backend())\n",
    "encryptor = cipher.encryptor()\n",
    "\n",
    "plaintext = b'block size = 128'\n",
    "encryptor.update(plaintext) + encryptor.finalize()"
   ]
  },
  {
   "cell_type": "markdown",
   "id": "c8df2b98-2664-4980-a81a-bc96d28cfae5",
   "metadata": {},
   "source": [
    "#### Режим сцепления блоков шифротекста (cipher block chaining – CBC) "
   ]
  },
  {
   "cell_type": "code",
   "execution_count": 6,
   "id": "b82f0b2b-652a-48ec-806d-a1079d0346bc",
   "metadata": {},
   "outputs": [
    {
     "data": {
      "text/plain": [
       "False"
      ]
     },
     "execution_count": 6,
     "metadata": {},
     "output_type": "execute_result"
    }
   ],
   "source": [
    "import secrets\n",
    "from cryptography.hazmat.backends import default_backend\n",
    "from cryptography.hazmat.primitives.ciphers import (Cipher, algorithms, modes)\n",
    "\n",
    "key = b'key must be 128, 196 or 256 bits'\n",
    "\n",
    "def encrypt(data):\n",
    "    iv = secrets.token_bytes(16)\n",
    "    cipher = Cipher(algorithms.AES(key),modes.CBC(iv),backend=default_backend())\n",
    "    encryptor = cipher.encryptor()\n",
    "    return encryptor.update(data) + encryptor.finalize()\n",
    "\n",
    "plaintext = b'the same message' * 2\n",
    "x = encrypt(plaintext)\n",
    "y = encrypt(plaintext)\n",
    "\n",
    "x[:16] == x[16:]"
   ]
  },
  {
   "cell_type": "code",
   "execution_count": 7,
   "id": "38585d23-1541-485c-8870-944117287043",
   "metadata": {},
   "outputs": [
    {
     "data": {
      "text/plain": [
       "False"
      ]
     },
     "execution_count": 7,
     "metadata": {},
     "output_type": "execute_result"
    }
   ],
   "source": [
    "x == y"
   ]
  }
 ],
 "metadata": {
  "kernelspec": {
   "display_name": "Python 3 (ipykernel)",
   "language": "python",
   "name": "python3"
  },
  "language_info": {
   "codemirror_mode": {
    "name": "ipython",
    "version": 3
   },
   "file_extension": ".py",
   "mimetype": "text/x-python",
   "name": "python",
   "nbconvert_exporter": "python",
   "pygments_lexer": "ipython3",
   "version": "3.10.12"
  }
 },
 "nbformat": 4,
 "nbformat_minor": 5
}
