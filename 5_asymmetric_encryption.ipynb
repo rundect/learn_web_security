{
 "cells": [
  {
   "cell_type": "markdown",
   "id": "3452aabb-6b6e-450a-9746-648ac8e60ae1",
   "metadata": {},
   "source": [
    "#### RSA"
   ]
  },
  {
   "cell_type": "code",
   "execution_count": null,
   "id": "4113178b-7b71-48ba-b93d-31648f52c9cd",
   "metadata": {},
   "outputs": [],
   "source": [
    "openssl genpkey -algorithm RSA -out private_key.pem -pkeyopt rsa_keygen_bits:3072"
   ]
  },
  {
   "cell_type": "code",
   "execution_count": null,
   "id": "888aa660-f865-4ad3-af0c-d66a05810b5c",
   "metadata": {},
   "outputs": [],
   "source": [
    "openssl rsa -pubout -in private_key.pem -out public_key.pem"
   ]
  },
  {
   "cell_type": "code",
   "execution_count": null,
   "id": "4a027d20-921a-478a-9ed4-c3d37e80765c",
   "metadata": {},
   "outputs": [],
   "source": [
    "chmod 600 private_key.pem"
   ]
  },
  {
   "cell_type": "code",
   "execution_count": null,
   "id": "340f0b6e-61a3-4e26-98a2-f607f0e107ea",
   "metadata": {},
   "outputs": [],
   "source": [
    "chmod 644 public_key.pem"
   ]
  },
  {
   "cell_type": "markdown",
   "id": "be74b2b7-77f4-4a37-85ca-8910aa3ba3a1",
   "metadata": {},
   "source": [
    "#### Создание пары ключей RSA через Python"
   ]
  },
  {
   "cell_type": "code",
   "execution_count": null,
   "id": "31955bd2-e589-41ce-80a1-9022bb973ebf",
   "metadata": {},
   "outputs": [],
   "source": [
    "from cryptography.hazmat.backends import default_backend\n",
    "from cryptography.hazmat.primitives import serialization\n",
    "from cryptography.hazmat.primitives.asymmetric import rsa\n",
    "private_key = rsa.generate_private_key(public_exponent=65537,key_size=3072,backend=default_backend(), )\n",
    "public_key = private_key.public_key()"
   ]
  },
  {
   "cell_type": "markdown",
   "id": "4c90e888-03dd-44b3-9820-a3025b02679a",
   "metadata": {},
   "source": [
    "#### Сохранение пары ключей RSA на Python"
   ]
  },
  {
   "cell_type": "code",
   "execution_count": null,
   "id": "c3acefe0-eca8-4fc9-97d3-271b47e6791b",
   "metadata": {},
   "outputs": [],
   "source": [
    "private_bytes = private_key.private_bytes(\n",
    "    encoding=serialization.Encoding.PEM,\n",
    "    format=serialization.PrivateFormat.PKCS8,\n",
    "    encryption_algorithm=serialization.NoEncryption(), )\n",
    "with open('private_key.pem', 'xb') as private_file:\n",
    "    private_file.write(private_bytes)\n",
    "public_bytes = public_key.public_bytes(\n",
    "    encoding=serialization.Encoding.PEM,\n",
    "    format=serialization.PublicFormat.SubjectPublicKeyInfo, )\n",
    "with open('public_key.pem', 'xb') as public_file:\n",
    "    public_file.write(public_bytes)"
   ]
  },
  {
   "cell_type": "markdown",
   "id": "25dc2355-091e-49c5-b60c-428ebb695201",
   "metadata": {},
   "source": [
    "#### Чтение пары ключей RSA на Python"
   ]
  },
  {
   "cell_type": "code",
   "execution_count": null,
   "id": "c83d8427-e670-4f48-8c0f-f372ca050361",
   "metadata": {},
   "outputs": [],
   "source": [
    "with open('private_key.pem', 'rb') as private_file:\n",
    "    loaded_private_key = serialization.load_pem_private_key(\n",
    "    private_file.read(),\n",
    "    password=None,\n",
    "    backend=default_backend()\n",
    "    )\n",
    "with open('public_key.pem', 'rb') as public_file:\n",
    "    loaded_public_key = serialization.load_pem_public_key(\n",
    "    public_file.read(),\n",
    "    backend=default_backend()\n",
    "    )"
   ]
  },
  {
   "cell_type": "markdown",
   "id": "2526b3a0-f829-48a1-add1-7a640369e1d1",
   "metadata": {},
   "source": [
    "#### Шифрование парой ключей RSA на Python"
   ]
  },
  {
   "cell_type": "code",
   "execution_count": 1,
   "id": "7cb50365-6447-4955-b616-ac039300f92e",
   "metadata": {},
   "outputs": [
    {
     "ename": "NameError",
     "evalue": "name 'loaded_public_key' is not defined",
     "output_type": "error",
     "traceback": [
      "\u001b[0;31m---------------------------------------------------------------------------\u001b[0m",
      "\u001b[0;31mNameError\u001b[0m                                 Traceback (most recent call last)",
      "Cell \u001b[0;32mIn[1], line 8\u001b[0m\n\u001b[1;32m      3\u001b[0m padding_config \u001b[38;5;241m=\u001b[39m padding\u001b[38;5;241m.\u001b[39mOAEP(\n\u001b[1;32m      4\u001b[0m     mgf\u001b[38;5;241m=\u001b[39mpadding\u001b[38;5;241m.\u001b[39mMGF1(algorithm\u001b[38;5;241m=\u001b[39mhashes\u001b[38;5;241m.\u001b[39mSHA256()),\n\u001b[1;32m      5\u001b[0m     algorithm\u001b[38;5;241m=\u001b[39mhashes\u001b[38;5;241m.\u001b[39mSHA256(),\n\u001b[1;32m      6\u001b[0m     label\u001b[38;5;241m=\u001b[39m\u001b[38;5;28;01mNone\u001b[39;00m, )\n\u001b[1;32m      7\u001b[0m plaintext \u001b[38;5;241m=\u001b[39m \u001b[38;5;124mb\u001b[39m\u001b[38;5;124m'\u001b[39m\u001b[38;5;124mmessage from Alice to Bob\u001b[39m\u001b[38;5;124m'\u001b[39m\n\u001b[0;32m----> 8\u001b[0m ciphertext \u001b[38;5;241m=\u001b[39m \u001b[43mloaded_public_key\u001b[49m\u001b[38;5;241m.\u001b[39mencrypt(\n\u001b[1;32m      9\u001b[0m     plaintext\u001b[38;5;241m=\u001b[39mplaintext,\n\u001b[1;32m     10\u001b[0m     padding\u001b[38;5;241m=\u001b[39mpadding_config, )\n\u001b[1;32m     11\u001b[0m decrypted_by_private_key \u001b[38;5;241m=\u001b[39m loaded_private_key\u001b[38;5;241m.\u001b[39mdecrypt(\n\u001b[1;32m     12\u001b[0m     ciphertext\u001b[38;5;241m=\u001b[39mciphertext,\n\u001b[1;32m     13\u001b[0m     padding\u001b[38;5;241m=\u001b[39mpadding_config)\n\u001b[1;32m     14\u001b[0m \u001b[38;5;28;01massert\u001b[39;00m decrypted_by_private_key \u001b[38;5;241m==\u001b[39m plaintext\n",
      "\u001b[0;31mNameError\u001b[0m: name 'loaded_public_key' is not defined"
     ]
    }
   ],
   "source": [
    "from cryptography.hazmat.primitives import hashes\n",
    "from cryptography.hazmat.primitives.asymmetric import padding\n",
    "padding_config = padding.OAEP(\n",
    "    mgf=padding.MGF1(algorithm=hashes.SHA256()),\n",
    "    algorithm=hashes.SHA256(),\n",
    "    label=None, )\n",
    "plaintext = b'message from Alice to Bob'\n",
    "ciphertext = loaded_public_key.encrypt(\n",
    "    plaintext=plaintext,\n",
    "    padding=padding_config, )\n",
    "decrypted_by_private_key = loaded_private_key.decrypt(\n",
    "    ciphertext=ciphertext,\n",
    "    padding=padding_config)\n",
    "assert decrypted_by_private_key == plaintext"
   ]
  },
  {
   "cell_type": "markdown",
   "id": "ab2d5953-a42b-48e0-838f-0fe67339951a",
   "metadata": {},
   "source": [
    "#### Подписание данных криптосистемой RSA на Python"
   ]
  },
  {
   "cell_type": "code",
   "execution_count": 2,
   "id": "bb922ac6-ebe7-4240-a88c-d40efac7290b",
   "metadata": {},
   "outputs": [
    {
     "ename": "NameError",
     "evalue": "name 'load_rsa_private_key' is not defined",
     "output_type": "error",
     "traceback": [
      "\u001b[0;31m---------------------------------------------------------------------------\u001b[0m",
      "\u001b[0;31mNameError\u001b[0m                                 Traceback (most recent call last)",
      "Cell \u001b[0;32mIn[2], line 9\u001b[0m\n\u001b[1;32m      5\u001b[0m message \u001b[38;5;241m=\u001b[39m \u001b[38;5;124mb\u001b[39m\u001b[38;5;124m'\u001b[39m\u001b[38;5;124mfrom Bob to Alice\u001b[39m\u001b[38;5;124m'\u001b[39m\n\u001b[1;32m      6\u001b[0m padding_config \u001b[38;5;241m=\u001b[39m padding\u001b[38;5;241m.\u001b[39mPSS(\n\u001b[1;32m      7\u001b[0m     mgf\u001b[38;5;241m=\u001b[39mpadding\u001b[38;5;241m.\u001b[39mMGF1(hashes\u001b[38;5;241m.\u001b[39mSHA256()),\n\u001b[1;32m      8\u001b[0m     salt_length\u001b[38;5;241m=\u001b[39mpadding\u001b[38;5;241m.\u001b[39mPSS\u001b[38;5;241m.\u001b[39mMAX_LENGTH)\n\u001b[0;32m----> 9\u001b[0m private_key \u001b[38;5;241m=\u001b[39m \u001b[43mload_rsa_private_key\u001b[49m()\n\u001b[1;32m     10\u001b[0m signature \u001b[38;5;241m=\u001b[39m private_key\u001b[38;5;241m.\u001b[39msign(\n\u001b[1;32m     11\u001b[0m     message,\n\u001b[1;32m     12\u001b[0m     padding_config,\n\u001b[1;32m     13\u001b[0m     hashes\u001b[38;5;241m.\u001b[39mSHA256())\n\u001b[1;32m     14\u001b[0m signed_msg \u001b[38;5;241m=\u001b[39m {\n\u001b[1;32m     15\u001b[0m  \u001b[38;5;124m'\u001b[39m\u001b[38;5;124mmessage\u001b[39m\u001b[38;5;124m'\u001b[39m: \u001b[38;5;28mlist\u001b[39m(message),\n\u001b[1;32m     16\u001b[0m  \u001b[38;5;124m'\u001b[39m\u001b[38;5;124msignature\u001b[39m\u001b[38;5;124m'\u001b[39m: \u001b[38;5;28mlist\u001b[39m(signature),\n\u001b[1;32m     17\u001b[0m }\n",
      "\u001b[0;31mNameError\u001b[0m: name 'load_rsa_private_key' is not defined"
     ]
    }
   ],
   "source": [
    "import json\n",
    "from cryptography.hazmat.primitives.asymmetric import padding\n",
    "from cryptography.hazmat.primitives import hashes\n",
    "\n",
    "message = b'from Bob to Alice'\n",
    "padding_config = padding.PSS(\n",
    "    mgf=padding.MGF1(hashes.SHA256()),\n",
    "    salt_length=padding.PSS.MAX_LENGTH)\n",
    "private_key = load_rsa_private_key()\n",
    "signature = private_key.sign(\n",
    "    message,\n",
    "    padding_config,\n",
    "    hashes.SHA256())\n",
    "signed_msg = {\n",
    " 'message': list(message),\n",
    " 'signature': list(signature),\n",
    "}\n",
    "outbound_msg_to_alice = json.dumps(signed_msg)"
   ]
  },
  {
   "cell_type": "code",
   "execution_count": null,
   "id": "31415379-98cb-47e3-88d7-ba4c146dd489",
   "metadata": {},
   "outputs": [],
   "source": [
    "#### Проверка подписи, созданной криптосистемой RSA, на Python"
   ]
  },
  {
   "cell_type": "code",
   "execution_count": 3,
   "id": "e3a1efa6-46a5-4932-9bfc-df323da4e58a",
   "metadata": {},
   "outputs": [],
   "source": [
    "import json\n",
    "from cryptography.hazmat.primitives import hashes\n",
    "from cryptography.hazmat.primitives.asymmetric import padding\n",
    "from cryptography.exceptions import InvalidSignature\n",
    "\n",
    "def receive(inbound_msg_from_bob):\n",
    "    signed_msg = json.loads(inbound_msg_from_bob)\n",
    "    message = bytes(signed_msg['message'])\n",
    "    signature = bytes(signed_msg['signature'])\n",
    "    padding_config = padding.PSS(\n",
    "        mgf=padding.MGF1(hashes.SHA256()),\n",
    "        salt_length=padding.PSS.MAX_LENGTH)\n",
    "    private_key = load_rsa_private_key()\n",
    "    try:\n",
    "        private_key.public_key().verify(\n",
    "            signature,\n",
    "            message,\n",
    "            padding_config,\n",
    "            hashes.SHA256())\n",
    "        print('Сообщению можно доверять')\n",
    "    except InvalidSignature:\n",
    "        print('Сообщению нельзя доверять')"
   ]
  },
  {
   "cell_type": "markdown",
   "id": "604ef926-a856-4a17-a27b-8d2aba069d81",
   "metadata": {},
   "source": [
    "#### Подписание данных на базе эллиптических кривыхm"
   ]
  },
  {
   "cell_type": "code",
   "execution_count": null,
   "id": "94ea91d0-b68a-4fa5-8b0a-a5ba71791981",
   "metadata": {},
   "outputs": [],
   "source": []
  }
 ],
 "metadata": {
  "kernelspec": {
   "display_name": "Python 3 (ipykernel)",
   "language": "python",
   "name": "python3"
  },
  "language_info": {
   "codemirror_mode": {
    "name": "ipython",
    "version": 3
   },
   "file_extension": ".py",
   "mimetype": "text/x-python",
   "name": "python",
   "nbconvert_exporter": "python",
   "pygments_lexer": "ipython3",
   "version": "3.10.12"
  }
 },
 "nbformat": 4,
 "nbformat_minor": 5
}
